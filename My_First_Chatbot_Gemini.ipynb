{
  "nbformat": 4,
  "nbformat_minor": 0,
  "metadata": {
    "colab": {
      "provenance": [],
      "authorship_tag": "ABX9TyMR91Uj4kKwl2XjA4un1JpN",
      "include_colab_link": true
    },
    "kernelspec": {
      "name": "python3",
      "display_name": "Python 3"
    },
    "language_info": {
      "name": "python"
    }
  },
  "cells": [
    {
      "cell_type": "markdown",
      "metadata": {
        "id": "view-in-github",
        "colab_type": "text"
      },
      "source": [
        "<a href=\"https://colab.research.google.com/github/lgzamarian/My_First_Chatbot_Gemini/blob/main/My_First_Chatbot_Gemini.ipynb\" target=\"_parent\"><img src=\"https://colab.research.google.com/assets/colab-badge.svg\" alt=\"Open In Colab\"/></a>"
      ]
    },
    {
      "cell_type": "markdown",
      "source": [
        "## Instalando o SDK do Google"
      ],
      "metadata": {
        "id": "rHKbILB8Qy2R"
      }
    },
    {
      "cell_type": "code",
      "execution_count": 1,
      "metadata": {
        "id": "5mQ8MXzmNml2"
      },
      "outputs": [],
      "source": [
        "!pip install -q -U google-generativeai"
      ]
    },
    {
      "cell_type": "code",
      "source": [
        "# Import the Python SDK\n",
        "import google.generativeai as genai\n",
        "from google.colab import userdata\n",
        "\n",
        "api_key = userdata.get('SECRET_KEY')\n",
        "genai.configure(api_key=api_key)"
      ],
      "metadata": {
        "id": "95JnvXdSRC-U"
      },
      "execution_count": 13,
      "outputs": []
    },
    {
      "cell_type": "markdown",
      "source": [
        "Listar os modelos disponíveis"
      ],
      "metadata": {
        "id": "clQTyKXzRL-a"
      }
    },
    {
      "cell_type": "code",
      "source": [
        "for m in genai.list_models():\n",
        "  if 'generateContent' in m.supported_generation_methods:\n",
        "    print(m.name)"
      ],
      "metadata": {
        "colab": {
          "base_uri": "https://localhost:8080/",
          "height": 138
        },
        "id": "uoX3nCQNRH-M",
        "outputId": "d4fbcb2e-ed16-4099-c4fc-e5836268e88b"
      },
      "execution_count": 14,
      "outputs": [
        {
          "output_type": "stream",
          "name": "stdout",
          "text": [
            "models/gemini-1.0-pro\n",
            "models/gemini-1.0-pro-001\n",
            "models/gemini-1.0-pro-latest\n",
            "models/gemini-1.0-pro-vision-latest\n",
            "models/gemini-1.5-pro-latest\n",
            "models/gemini-pro\n",
            "models/gemini-pro-vision\n"
          ]
        }
      ]
    },
    {
      "cell_type": "code",
      "source": [
        "generation_config = {\n",
        "    \"candidate_count\": 1,\n",
        "    \"temperature\": 0.5\n",
        "}"
      ],
      "metadata": {
        "id": "aBGQjkFFRmob"
      },
      "execution_count": 4,
      "outputs": []
    },
    {
      "cell_type": "code",
      "source": [
        "# Dá para colocar opções de \"BLOCK_SOME\", \"BLOCK_MOST\", etc.\n",
        "\n",
        "safety_settings = {\n",
        "    \"HARASSMENT\": \"BLOCK_NONE\",\n",
        "    \"HATE\": \"BLOCK_NONE\",\n",
        "    \"SEXUAL\": \"BLOCK_NONE\",\n",
        "    \"DANGEROUS\": \"BLOCK_NONE\"\n",
        "}"
      ],
      "metadata": {
        "id": "iJGSHRTvULlx"
      },
      "execution_count": 5,
      "outputs": []
    },
    {
      "cell_type": "markdown",
      "source": [
        "Inicializando o modelo"
      ],
      "metadata": {
        "id": "SUgaJSkmU5Br"
      }
    },
    {
      "cell_type": "code",
      "source": [
        "model = genai.GenerativeModel(model_name=\"gemini-1.0-pro\",\n",
        "                              generation_config=generation_config,\n",
        "                              safety_settings=safety_settings)"
      ],
      "metadata": {
        "id": "LAZfJc5gUn1t"
      },
      "execution_count": 6,
      "outputs": []
    },
    {
      "cell_type": "code",
      "source": [
        "response = model.generate_content(\"Vamos aprender conteúdo sobre IA. Me dê sugestões.\")\n",
        "print(response.text)"
      ],
      "metadata": {
        "colab": {
          "base_uri": "https://localhost:8080/",
          "height": 694
        },
        "id": "G6u4PBb_VatK",
        "outputId": "c8f87701-dafc-4b2f-ea6a-5cd1a2c54bba"
      },
      "execution_count": 7,
      "outputs": [
        {
          "output_type": "stream",
          "name": "stdout",
          "text": [
            "**Conceitos Fundamentais:**\n",
            "\n",
            "* O que é Inteligência Artificial (IA)?\n",
            "* História e evolução da IA\n",
            "* Tipos de IA: Aprendizado de Máquina, Aprendizado Profundo, Processamento de Linguagem Natural\n",
            "* Algoritmos de IA: Regressão, Classificação, Agrupamento\n",
            "\n",
            "**Aprendizado de Máquina:**\n",
            "\n",
            "* Tipos de aprendizado de máquina: supervisionado, não supervisionado, por reforço\n",
            "* Modelos de aprendizado de máquina: Árvore de Decisão, Regressão Linear, Redes Neurais\n",
            "* Avaliação de modelos de aprendizado de máquina: Precisão, Recall, F1-score\n",
            "\n",
            "**Aprendizado Profundo:**\n",
            "\n",
            "* Redes Neurais: Arquiteturas, Treinamento, Otimização\n",
            "* Redes Convolucionais (CNNs): Processamento de Imagem e Vídeo\n",
            "* Redes Neurais Recorrentes (RNNs): Processamento de Linguagem Natural\n",
            "\n",
            "**Processamento de Linguagem Natural (PNL):**\n",
            "\n",
            "* Processamento de Texto: Tokenização, Stemming, Lematização\n",
            "* Modelos de PNL: Modelos de Linguagem, Análise de Sentimento, Resumo de Texto\n",
            "* Aplicações de PNL: Chatbots, Tradução Automática, Geração de Texto\n",
            "\n",
            "**Aplicações da IA:**\n",
            "\n",
            "* Visão Computacional: Reconhecimento de Imagem, Detecção de Objetos\n",
            "* Processamento de Linguagem Natural: Chatbots, Pesquisa Semântica\n",
            "* Veículos Autônomos: Navegação, Percepção\n",
            "* Cuidados de Saúde: Diagnóstico, Tratamento Personalizado\n",
            "* Finanças: Detecção de Fraude, Análise de Risco\n",
            "\n",
            "**Ética e Implicações Sociais da IA:**\n",
            "\n",
            "* Viés e Discriminação em Sistemas de IA\n",
            "* Privacidade e Segurança\n",
            "* Impacto no Emprego e na Sociedade\n",
            "* Regulamentação e Governança da IA\n"
          ]
        }
      ]
    },
    {
      "cell_type": "code",
      "source": [
        "chat = model.start_chat(history=[])"
      ],
      "metadata": {
        "id": "QO-yQ1xGV77G"
      },
      "execution_count": 8,
      "outputs": []
    },
    {
      "cell_type": "code",
      "source": [
        "prompt = input(\"Esperando prompt: \")\n",
        "\n",
        "while prompt != \"fim\":\n",
        "  response = chat.send_message(prompt)\n",
        "  print(\"Resposta: \", response.text, \"\\n\")\n",
        "  # print(response.text)\n",
        "  prompt = input(\"Esperando prompt: \")"
      ],
      "metadata": {
        "colab": {
          "base_uri": "https://localhost:8080/",
          "height": 610
        },
        "id": "prl942KFWTjf",
        "outputId": "ecf6d15b-58f1-4906-f97a-e13bb6e57c7e"
      },
      "execution_count": 9,
      "outputs": [
        {
          "name": "stdout",
          "output_type": "stream",
          "text": [
            "Esperando prompt: Qual a capital do Japão?\n",
            "Resposta:  Tóquio \n",
            "\n",
            "Esperando prompt: Qual a comida típica desse país?\n",
            "Resposta:  Sushi \n",
            "\n",
            "Esperando prompt: Me fale sobre profissões típicas e esportes que só são praticados nesse país\n",
            "Resposta:  **Profissões típicas do Japão:**\n",
            "\n",
            "* **Mangaká:** Artista de mangá, responsável por criar e desenhar histórias em quadrinhos japonesas.\n",
            "* **Geisha:** Artista tradicional que entretém convidados com música, dança e conversas.\n",
            "* **Sumotori:** Lutador de sumô, um esporte de luta tradicional japonês.\n",
            "* **Sushi Chef:** Chef especializado em preparar sushi, um prato japonês feito com arroz avinagrado e frutos do mar crus ou cozidos.\n",
            "* **Mestre de Ikebana:** Artista que cria arranjos florais tradicionais japoneses.\n",
            "\n",
            "**Esportes praticados apenas no Japão:**\n",
            "\n",
            "* **Sumô:** Um esporte de luta tradicional em que dois lutadores tentam forçar um ao outro para fora de um ringue circular ou fazê-lo tocar o chão com qualquer parte do corpo além dos pés.\n",
            "* **Kendô:** Uma arte marcial japonesa que usa espadas de bambu para praticar técnicas de combate com espadas.\n",
            "* **Iaido:** Uma arte marcial japonesa que se concentra em desembainhar e embainhar uma espada rapidamente e com precisão.\n",
            "* **Kyūdō:** Tiro com arco japonês, praticado com arcos tradicionais e flechas de bambu.\n",
            "* **Shogi:** Um jogo de estratégia de tabuleiro semelhante ao xadrez, mas com regras e peças diferentes. \n",
            "\n",
            "Esperando prompt: Meu primo nasceu nessa cidade. Qual a nacionalidade dele?\n",
            "Resposta:  Japonesa \n",
            "\n",
            "Esperando prompt: Qual a população dessa cidade?\n",
            "Resposta:  13.960.236 (em 1º de janeiro de 2023) \n",
            "\n",
            "Esperando prompt: De que lugar você tirou essa informação?\n",
            "Resposta:  Instituto Nacional de Pesquisa em População e Segurança Social do Japão: https://www.ipss.go.jp/ \n",
            "\n",
            "Esperando prompt: fim\n"
          ]
        }
      ]
    },
    {
      "cell_type": "code",
      "source": [
        "chat.history"
      ],
      "metadata": {
        "colab": {
          "base_uri": "https://localhost:8080/"
        },
        "id": "ddfpXvUycFiv",
        "outputId": "e185c68a-54bd-4ace-d083-2cdd23d56d02"
      },
      "execution_count": 10,
      "outputs": [
        {
          "output_type": "execute_result",
          "data": {
            "text/plain": [
              "[parts {\n",
              "   text: \"Qual a capital do Jap\\303\\243o?\"\n",
              " }\n",
              " role: \"user\",\n",
              " parts {\n",
              "   text: \"T\\303\\263quio\"\n",
              " }\n",
              " role: \"model\",\n",
              " parts {\n",
              "   text: \"Qual a comida t\\303\\255pica desse pa\\303\\255s?\"\n",
              " }\n",
              " role: \"user\",\n",
              " parts {\n",
              "   text: \"Sushi\"\n",
              " }\n",
              " role: \"model\",\n",
              " parts {\n",
              "   text: \"Me fale sobre profiss\\303\\265es t\\303\\255picas e esportes que s\\303\\263 s\\303\\243o praticados nesse pa\\303\\255s\"\n",
              " }\n",
              " role: \"user\",\n",
              " parts {\n",
              "   text: \"**Profiss\\303\\265es t\\303\\255picas do Jap\\303\\243o:**\\n\\n* **Mangak\\303\\241:** Artista de mang\\303\\241, respons\\303\\241vel por criar e desenhar hist\\303\\263rias em quadrinhos japonesas.\\n* **Geisha:** Artista tradicional que entret\\303\\251m convidados com m\\303\\272sica, dan\\303\\247a e conversas.\\n* **Sumotori:** Lutador de sum\\303\\264, um esporte de luta tradicional japon\\303\\252s.\\n* **Sushi Chef:** Chef especializado em preparar sushi, um prato japon\\303\\252s feito com arroz avinagrado e frutos do mar crus ou cozidos.\\n* **Mestre de Ikebana:** Artista que cria arranjos florais tradicionais japoneses.\\n\\n**Esportes praticados apenas no Jap\\303\\243o:**\\n\\n* **Sum\\303\\264:** Um esporte de luta tradicional em que dois lutadores tentam for\\303\\247ar um ao outro para fora de um ringue circular ou faz\\303\\252-lo tocar o ch\\303\\243o com qualquer parte do corpo al\\303\\251m dos p\\303\\251s.\\n* **Kend\\303\\264:** Uma arte marcial japonesa que usa espadas de bambu para praticar t\\303\\251cnicas de combate com espadas.\\n* **Iaido:** Uma arte marcial japonesa que se concentra em desembainhar e embainhar uma espada rapidamente e com precis\\303\\243o.\\n* **Ky\\305\\253d\\305\\215:** Tiro com arco japon\\303\\252s, praticado com arcos tradicionais e flechas de bambu.\\n* **Shogi:** Um jogo de estrat\\303\\251gia de tabuleiro semelhante ao xadrez, mas com regras e pe\\303\\247as diferentes.\"\n",
              " }\n",
              " role: \"model\",\n",
              " parts {\n",
              "   text: \"Meu primo nasceu nessa cidade. Qual a nacionalidade dele?\"\n",
              " }\n",
              " role: \"user\",\n",
              " parts {\n",
              "   text: \"Japonesa\"\n",
              " }\n",
              " role: \"model\",\n",
              " parts {\n",
              "   text: \"Qual a popula\\303\\247\\303\\243o dessa cidade?\"\n",
              " }\n",
              " role: \"user\",\n",
              " parts {\n",
              "   text: \"13.960.236 (em 1\\302\\272 de janeiro de 2023)\"\n",
              " }\n",
              " role: \"model\",\n",
              " parts {\n",
              "   text: \"De que lugar voc\\303\\252 tirou essa informa\\303\\247\\303\\243o?\"\n",
              " }\n",
              " role: \"user\",\n",
              " parts {\n",
              "   text: \"Instituto Nacional de Pesquisa em Popula\\303\\247\\303\\243o e Seguran\\303\\247a Social do Jap\\303\\243o: https://www.ipss.go.jp/\"\n",
              " }\n",
              " role: \"model\"]"
            ]
          },
          "metadata": {},
          "execution_count": 10
        }
      ]
    },
    {
      "cell_type": "code",
      "source": [
        "# Melhorando a visualização\n",
        "# Código dísponível em https://ai.google.dev/tutorials/python_quickstart#import_packages\n",
        "import textwrap\n",
        "from IPython.display import display\n",
        "from IPython.display import Markdown\n",
        "\n",
        "\n",
        "def to_markdown(text):\n",
        "  text = text.replace('•', '  *')\n",
        "  return Markdown(textwrap.indent(text, '> ', predicate=lambda _: True))\n",
        "\n",
        "for message in chat.history:\n",
        "  display(to_markdown(f'**{message.role}**: {message.parts[0].text}'))\n",
        "  print('-------------------------------------------')"
      ],
      "metadata": {
        "colab": {
          "base_uri": "https://localhost:8080/",
          "height": 996
        },
        "id": "qX-4_BBIb9JK",
        "outputId": "6f3afce8-bd77-40a7-dd7d-5956835371a0"
      },
      "execution_count": 12,
      "outputs": [
        {
          "output_type": "display_data",
          "data": {
            "text/plain": [
              "<IPython.core.display.Markdown object>"
            ],
            "text/markdown": "> **user**: Qual a capital do Japão?"
          },
          "metadata": {}
        },
        {
          "output_type": "stream",
          "name": "stdout",
          "text": [
            "-------------------------------------------\n"
          ]
        },
        {
          "output_type": "display_data",
          "data": {
            "text/plain": [
              "<IPython.core.display.Markdown object>"
            ],
            "text/markdown": "> **model**: Tóquio"
          },
          "metadata": {}
        },
        {
          "output_type": "stream",
          "name": "stdout",
          "text": [
            "-------------------------------------------\n"
          ]
        },
        {
          "output_type": "display_data",
          "data": {
            "text/plain": [
              "<IPython.core.display.Markdown object>"
            ],
            "text/markdown": "> **user**: Qual a comida típica desse país?"
          },
          "metadata": {}
        },
        {
          "output_type": "stream",
          "name": "stdout",
          "text": [
            "-------------------------------------------\n"
          ]
        },
        {
          "output_type": "display_data",
          "data": {
            "text/plain": [
              "<IPython.core.display.Markdown object>"
            ],
            "text/markdown": "> **model**: Sushi"
          },
          "metadata": {}
        },
        {
          "output_type": "stream",
          "name": "stdout",
          "text": [
            "-------------------------------------------\n"
          ]
        },
        {
          "output_type": "display_data",
          "data": {
            "text/plain": [
              "<IPython.core.display.Markdown object>"
            ],
            "text/markdown": "> **user**: Me fale sobre profissões típicas e esportes que só são praticados nesse país"
          },
          "metadata": {}
        },
        {
          "output_type": "stream",
          "name": "stdout",
          "text": [
            "-------------------------------------------\n"
          ]
        },
        {
          "output_type": "display_data",
          "data": {
            "text/plain": [
              "<IPython.core.display.Markdown object>"
            ],
            "text/markdown": "> **model**: **Profissões típicas do Japão:**\n> \n> * **Mangaká:** Artista de mangá, responsável por criar e desenhar histórias em quadrinhos japonesas.\n> * **Geisha:** Artista tradicional que entretém convidados com música, dança e conversas.\n> * **Sumotori:** Lutador de sumô, um esporte de luta tradicional japonês.\n> * **Sushi Chef:** Chef especializado em preparar sushi, um prato japonês feito com arroz avinagrado e frutos do mar crus ou cozidos.\n> * **Mestre de Ikebana:** Artista que cria arranjos florais tradicionais japoneses.\n> \n> **Esportes praticados apenas no Japão:**\n> \n> * **Sumô:** Um esporte de luta tradicional em que dois lutadores tentam forçar um ao outro para fora de um ringue circular ou fazê-lo tocar o chão com qualquer parte do corpo além dos pés.\n> * **Kendô:** Uma arte marcial japonesa que usa espadas de bambu para praticar técnicas de combate com espadas.\n> * **Iaido:** Uma arte marcial japonesa que se concentra em desembainhar e embainhar uma espada rapidamente e com precisão.\n> * **Kyūdō:** Tiro com arco japonês, praticado com arcos tradicionais e flechas de bambu.\n> * **Shogi:** Um jogo de estratégia de tabuleiro semelhante ao xadrez, mas com regras e peças diferentes."
          },
          "metadata": {}
        },
        {
          "output_type": "stream",
          "name": "stdout",
          "text": [
            "-------------------------------------------\n"
          ]
        },
        {
          "output_type": "display_data",
          "data": {
            "text/plain": [
              "<IPython.core.display.Markdown object>"
            ],
            "text/markdown": "> **user**: Meu primo nasceu nessa cidade. Qual a nacionalidade dele?"
          },
          "metadata": {}
        },
        {
          "output_type": "stream",
          "name": "stdout",
          "text": [
            "-------------------------------------------\n"
          ]
        },
        {
          "output_type": "display_data",
          "data": {
            "text/plain": [
              "<IPython.core.display.Markdown object>"
            ],
            "text/markdown": "> **model**: Japonesa"
          },
          "metadata": {}
        },
        {
          "output_type": "stream",
          "name": "stdout",
          "text": [
            "-------------------------------------------\n"
          ]
        },
        {
          "output_type": "display_data",
          "data": {
            "text/plain": [
              "<IPython.core.display.Markdown object>"
            ],
            "text/markdown": "> **user**: Qual a população dessa cidade?"
          },
          "metadata": {}
        },
        {
          "output_type": "stream",
          "name": "stdout",
          "text": [
            "-------------------------------------------\n"
          ]
        },
        {
          "output_type": "display_data",
          "data": {
            "text/plain": [
              "<IPython.core.display.Markdown object>"
            ],
            "text/markdown": "> **model**: 13.960.236 (em 1º de janeiro de 2023)"
          },
          "metadata": {}
        },
        {
          "output_type": "stream",
          "name": "stdout",
          "text": [
            "-------------------------------------------\n"
          ]
        },
        {
          "output_type": "display_data",
          "data": {
            "text/plain": [
              "<IPython.core.display.Markdown object>"
            ],
            "text/markdown": "> **user**: De que lugar você tirou essa informação?"
          },
          "metadata": {}
        },
        {
          "output_type": "stream",
          "name": "stdout",
          "text": [
            "-------------------------------------------\n"
          ]
        },
        {
          "output_type": "display_data",
          "data": {
            "text/plain": [
              "<IPython.core.display.Markdown object>"
            ],
            "text/markdown": "> **model**: Instituto Nacional de Pesquisa em População e Segurança Social do Japão: https://www.ipss.go.jp/"
          },
          "metadata": {}
        },
        {
          "output_type": "stream",
          "name": "stdout",
          "text": [
            "-------------------------------------------\n"
          ]
        }
      ]
    },
    {
      "cell_type": "code",
      "source": [],
      "metadata": {
        "id": "bKE44sBXdT2q"
      },
      "execution_count": null,
      "outputs": []
    }
  ]
}